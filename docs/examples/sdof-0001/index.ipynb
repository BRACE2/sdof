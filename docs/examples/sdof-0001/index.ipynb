{
 "cells": [
  {
   "cell_type": "markdown",
   "id": "18b49d94-c607-4b4c-bead-4e3da8d8752b",
   "metadata": {},
   "source": [
    "# Basic Python"
   ]
  },
  {
   "cell_type": "code",
   "execution_count": 1,
   "id": "96fb3399-ac8b-43c7-9127-8b3862cfbf24",
   "metadata": {},
   "outputs": [],
   "source": [
    "import sdof"
   ]
  },
  {
   "cell_type": "code",
   "execution_count": 2,
   "id": "a06cc613-2542-442f-8216-6ffb4649eac0",
   "metadata": {},
   "outputs": [
    {
     "name": "stdout",
     "output_type": "stream",
     "text": [
      "           0         1          2\n",
      "0   0.000000  0.000000   0.000000\n",
      "1   0.043667  0.873332  17.466639\n",
      "2   0.232617  2.905674  23.180211\n",
      "3   0.612064  4.683275  12.371806\n",
      "4   1.082528  4.725996 -11.517402\n",
      "5   1.430931  2.242063 -38.161252\n",
      "6   1.423053 -2.399618 -54.672371\n",
      "7   0.962161 -6.818225 -33.699755\n",
      "8   0.190786 -8.609266  -2.121077\n",
      "9  -0.604337 -7.293202  28.442354\n",
      "10 -1.144126 -3.502575  47.370190\n"
     ]
    }
   ],
   "source": [
    "f = [\n",
    "       0.0000,\n",
    "       5.0000,\n",
    "       8.6603,\n",
    "      10.0000,\n",
    "       8.6603,\n",
    "       5.0000,\n",
    "       0.0000,\n",
    "       0.0000,\n",
    "       0.0000,\n",
    "       0.0000,\n",
    "       0.0000]\n",
    "\n",
    "from pandas import DataFrame\n",
    "U = sdof.integrate(0.2533, 0.1592, 10., f, 0.10)\n",
    "print(DataFrame(U.T))"
   ]
  },
  {
   "cell_type": "code",
   "execution_count": null,
   "id": "8b2b0c25-942f-4ee6-94bc-2468a32010c1",
   "metadata": {},
   "outputs": [],
   "source": [
    "\n",
    "print(sdof.peaks(\n",
    "        1., 1., 0.,\n",
    "        np.loadtxt(\"data/elCentro.txt\"), 0.01\n",
    ").max_accel)\n"
   ]
  },
  {
   "cell_type": "code",
   "execution_count": null,
   "id": "61e69860-82e6-4067-b2ca-1295c7c3b198",
   "metadata": {},
   "outputs": [],
   "source": [
    "import matplotlib.pyplot as plt\n",
    "\n",
    "u,v,a = sdof.integrate(0.2533, 0.0, 10., np.zeros(100), 0.01, u0=1.0)\n",
    "\n",
    "fig, ax = plt.subplots()\n",
    "# ax.plot(a)\n",
    "# ax.plot(v)\n",
    "ax.plot(u)\n",
    "plt.show()\n",
    "\n",
    "u,v,a = sdof.integrate(\n",
    "        1., 1.e3, 0.,\n",
    "        -np.sin(np.linspace(0, 5*np.pi, 200)), 5*np.pi/200\n",
    ")\n",
    "\n",
    "fig, ax = plt.subplots()\n",
    "ax.plot(a)\n",
    "ax.plot(v)\n",
    "ax.plot(u)\n",
    "plt.show()\n",
    "\n",
    "f = np.loadtxt(\"data/elCentro.txt\")\n",
    "u,v,a = sdof.integrate(\n",
    "        1., 1., 0.,\n",
    "        f, 0.01\n",
    ")\n",
    "fig, ax = plt.subplots()\n",
    "ax.plot(a)\n",
    "ax.plot(v)\n",
    "ax.plot(u)\n",
    "ax.plot(f)\n",
    "plt.show()"
   ]
  }
 ],
 "metadata": {
  "kernelspec": {
   "display_name": "py311",
   "language": "python",
   "name": "py311"
  },
  "language_info": {
   "codemirror_mode": {
    "name": "ipython",
    "version": 3
   },
   "file_extension": ".py",
   "mimetype": "text/x-python",
   "name": "python",
   "nbconvert_exporter": "python",
   "pygments_lexer": "ipython3",
   "version": "3.11.0"
  }
 },
 "nbformat": 4,
 "nbformat_minor": 5
}
